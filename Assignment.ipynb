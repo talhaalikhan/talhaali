{
    "cells": [
        {
            "metadata": {},
            "cell_type": "code",
            "source": "from bs4 import BeautifulSoup\nimport requests\nimport numpy as np\nimport pandas as pd\nfrom geopy.geocoders import Nominatim\nimport json\nfrom pandas.io.json import json_normalize # tranform JSON file into a pandas dataframe\nfrom sklearn.cluster import KMeans\nimport matplotlib.cm as cm\nimport matplotlib.colors as colors",
            "execution_count": 1,
            "outputs": []
        },
        {
            "metadata": {},
            "cell_type": "code",
            "source": "url = 'https://en.wikipedia.org/wiki/List_of_postal_codes_of_Canada:_M'\nresult = requests.get(url)\nprint(url)\nprint(result.status_code)\nprint(result.headers)",
            "execution_count": 2,
            "outputs": [
                {
                    "output_type": "stream",
                    "text": "https://en.wikipedia.org/wiki/List_of_postal_codes_of_Canada:_M\n200\n{'Date': 'Fri, 04 Dec 2020 14:47:51 GMT', 'Vary': 'Accept-Encoding,Cookie,Authorization', 'Server': 'ATS/8.0.8', 'X-Content-Type-Options': 'nosniff', 'P3p': 'CP=\"See https://en.wikipedia.org/wiki/Special:CentralAutoLogin/P3P for more info.\"', 'Content-Language': 'en', 'X-Request-Id': 'b64f6966-ff0c-4f99-adbe-e66cc5b879ca', 'Last-Modified': 'Sat, 28 Nov 2020 07:26:32 GMT', 'Content-Type': 'text/html; charset=UTF-8', 'Content-Encoding': 'gzip', 'Age': '75170', 'X-Cache': 'cp2041 miss, cp2029 hit/21', 'X-Cache-Status': 'hit-front', 'Server-Timing': 'cache;desc=\"hit-front\"', 'Strict-Transport-Security': 'max-age=106384710; includeSubDomains; preload', 'Report-To': '{ \"group\": \"wm_nel\", \"max_age\": 86400, \"endpoints\": [{ \"url\": \"https://intake-logging.wikimedia.org/v1/events?stream=w3c.reportingapi.network_error&schema_uri=/w3c/reportingapi/network_error/1.0.0\" }] }', 'NEL': '{ \"report_to\": \"wm_nel\", \"max_age\": 86400, \"failure_fraction\": 0.05, \"success_fraction\": 0.0}', 'Set-Cookie': 'WMF-Last-Access=05-Dec-2020;Path=/;HttpOnly;secure;Expires=Wed, 06 Jan 2021 00:00:00 GMT, WMF-Last-Access-Global=05-Dec-2020;Path=/;Domain=.wikipedia.org;HttpOnly;secure;Expires=Wed, 06 Jan 2021 00:00:00 GMT, GeoIP=US:::37.75:-97.82:v4; Path=/; secure; Domain=.wikipedia.org', 'X-Client-IP': '169.61.221.119', 'Cache-Control': 'private, s-maxage=0, max-age=0, must-revalidate', 'Accept-Ranges': 'bytes', 'Content-Length': '13134', 'Connection': 'keep-alive'}\n",
                    "name": "stdout"
                }
            ]
        },
        {
            "metadata": {},
            "cell_type": "code",
            "source": "soup = BeautifulSoup(result.content, 'html.parser')\ntable = soup.find('table')\ntrs = table.find_all('tr')\nrows = []\nfor tr in trs:\n    i = tr.find_all('td')\n    if i:\n        rows.append(i)\n        \nlst = []\nfor row in rows:\n    postalcode = row[0].text.rstrip()\n    borough = row[1].text.rstrip()\n    neighborhood = row[2].text.rstrip()\n    if borough != 'Not assigned':\n        if neighborhood == 'Not assigned':\n            neighborhood = borough\n        lst.append([postalcode, borough, neighborhood])",
            "execution_count": 3,
            "outputs": []
        },
        {
            "metadata": {},
            "cell_type": "code",
            "source": "headers=\"Postcode,Borough,Neighbourhood\"\nlst",
            "execution_count": 4,
            "outputs": [
                {
                    "output_type": "execute_result",
                    "execution_count": 4,
                    "data": {
                        "text/plain": "[['M3A', 'North York', 'Parkwoods'],\n ['M4A', 'North York', 'Victoria Village'],\n ['M5A', 'Downtown Toronto', 'Regent Park, Harbourfront'],\n ['M6A', 'North York', 'Lawrence Manor, Lawrence Heights'],\n ['M7A', 'Downtown Toronto', \"Queen's Park, Ontario Provincial Government\"],\n ['M9A', 'Etobicoke', 'Islington Avenue, Humber Valley Village'],\n ['M1B', 'Scarborough', 'Malvern, Rouge'],\n ['M3B', 'North York', 'Don Mills'],\n ['M4B', 'East York', 'Parkview Hill, Woodbine Gardens'],\n ['M5B', 'Downtown Toronto', 'Garden District, Ryerson'],\n ['M6B', 'North York', 'Glencairn'],\n ['M9B',\n  'Etobicoke',\n  'West Deane Park, Princess Gardens, Martin Grove, Islington, Cloverdale'],\n ['M1C', 'Scarborough', 'Rouge Hill, Port Union, Highland Creek'],\n ['M3C', 'North York', 'Don Mills'],\n ['M4C', 'East York', 'Woodbine Heights'],\n ['M5C', 'Downtown Toronto', 'St. James Town'],\n ['M6C', 'York', 'Humewood-Cedarvale'],\n ['M9C',\n  'Etobicoke',\n  'Eringate, Bloordale Gardens, Old Burnhamthorpe, Markland Wood'],\n ['M1E', 'Scarborough', 'Guildwood, Morningside, West Hill'],\n ['M4E', 'East Toronto', 'The Beaches'],\n ['M5E', 'Downtown Toronto', 'Berczy Park'],\n ['M6E', 'York', 'Caledonia-Fairbanks'],\n ['M1G', 'Scarborough', 'Woburn'],\n ['M4G', 'East York', 'Leaside'],\n ['M5G', 'Downtown Toronto', 'Central Bay Street'],\n ['M6G', 'Downtown Toronto', 'Christie'],\n ['M1H', 'Scarborough', 'Cedarbrae'],\n ['M2H', 'North York', 'Hillcrest Village'],\n ['M3H', 'North York', 'Bathurst Manor, Wilson Heights, Downsview North'],\n ['M4H', 'East York', 'Thorncliffe Park'],\n ['M5H', 'Downtown Toronto', 'Richmond, Adelaide, King'],\n ['M6H', 'West Toronto', 'Dufferin, Dovercourt Village'],\n ['M1J', 'Scarborough', 'Scarborough Village'],\n ['M2J', 'North York', 'Fairview, Henry Farm, Oriole'],\n ['M3J', 'North York', 'Northwood Park, York University'],\n ['M4J', 'East York', 'East Toronto, Broadview North (Old East York)'],\n ['M5J',\n  'Downtown Toronto',\n  'Harbourfront East, Union Station, Toronto Islands'],\n ['M6J', 'West Toronto', 'Little Portugal, Trinity'],\n ['M1K', 'Scarborough', 'Kennedy Park, Ionview, East Birchmount Park'],\n ['M2K', 'North York', 'Bayview Village'],\n ['M3K', 'North York', 'Downsview'],\n ['M4K', 'East Toronto', 'The Danforth West, Riverdale'],\n ['M5K', 'Downtown Toronto', 'Toronto Dominion Centre, Design Exchange'],\n ['M6K', 'West Toronto', 'Brockton, Parkdale Village, Exhibition Place'],\n ['M1L', 'Scarborough', 'Golden Mile, Clairlea, Oakridge'],\n ['M2L', 'North York', 'York Mills, Silver Hills'],\n ['M3L', 'North York', 'Downsview'],\n ['M4L', 'East Toronto', 'India Bazaar, The Beaches West'],\n ['M5L', 'Downtown Toronto', 'Commerce Court, Victoria Hotel'],\n ['M6L', 'North York', 'North Park, Maple Leaf Park, Upwood Park'],\n ['M9L', 'North York', 'Humber Summit'],\n ['M1M', 'Scarborough', 'Cliffside, Cliffcrest, Scarborough Village West'],\n ['M2M', 'North York', 'Willowdale, Newtonbrook'],\n ['M3M', 'North York', 'Downsview'],\n ['M4M', 'East Toronto', 'Studio District'],\n ['M5M', 'North York', 'Bedford Park, Lawrence Manor East'],\n ['M6M', 'York', 'Del Ray, Mount Dennis, Keelsdale and Silverthorn'],\n ['M9M', 'North York', 'Humberlea, Emery'],\n ['M1N', 'Scarborough', 'Birch Cliff, Cliffside West'],\n ['M2N', 'North York', 'Willowdale, Willowdale East'],\n ['M3N', 'North York', 'Downsview'],\n ['M4N', 'Central Toronto', 'Lawrence Park'],\n ['M5N', 'Central Toronto', 'Roselawn'],\n ['M6N', 'York', 'Runnymede, The Junction North'],\n ['M9N', 'York', 'Weston'],\n ['M1P',\n  'Scarborough',\n  'Dorset Park, Wexford Heights, Scarborough Town Centre'],\n ['M2P', 'North York', 'York Mills West'],\n ['M4P', 'Central Toronto', 'Davisville North'],\n ['M5P', 'Central Toronto', 'Forest Hill North & West, Forest Hill Road Park'],\n ['M6P', 'West Toronto', 'High Park, The Junction South'],\n ['M9P', 'Etobicoke', 'Westmount'],\n ['M1R', 'Scarborough', 'Wexford, Maryvale'],\n ['M2R', 'North York', 'Willowdale, Willowdale West'],\n ['M4R', 'Central Toronto', 'North Toronto West,  Lawrence Park'],\n ['M5R', 'Central Toronto', 'The Annex, North Midtown, Yorkville'],\n ['M6R', 'West Toronto', 'Parkdale, Roncesvalles'],\n ['M7R', 'Mississauga', 'Canada Post Gateway Processing Centre'],\n ['M9R',\n  'Etobicoke',\n  'Kingsview Village, St. Phillips, Martin Grove Gardens, Richview Gardens'],\n ['M1S', 'Scarborough', 'Agincourt'],\n ['M4S', 'Central Toronto', 'Davisville'],\n ['M5S', 'Downtown Toronto', 'University of Toronto, Harbord'],\n ['M6S', 'West Toronto', 'Runnymede, Swansea'],\n ['M1T', 'Scarborough', \"Clarks Corners, Tam O'Shanter, Sullivan\"],\n ['M4T', 'Central Toronto', 'Moore Park, Summerhill East'],\n ['M5T', 'Downtown Toronto', 'Kensington Market, Chinatown, Grange Park'],\n ['M1V',\n  'Scarborough',\n  \"Milliken, Agincourt North, Steeles East, L'Amoreaux East\"],\n ['M4V',\n  'Central Toronto',\n  'Summerhill West, Rathnelly, South Hill, Forest Hill SE, Deer Park'],\n ['M5V',\n  'Downtown Toronto',\n  'CN Tower, King and Spadina, Railway Lands, Harbourfront West, Bathurst Quay, South Niagara, Island airport'],\n ['M8V', 'Etobicoke', 'New Toronto, Mimico South, Humber Bay Shores'],\n ['M9V',\n  'Etobicoke',\n  'South Steeles, Silverstone, Humbergate, Jamestown, Mount Olive, Beaumond Heights, Thistletown, Albion Gardens'],\n ['M1W', 'Scarborough', \"Steeles West, L'Amoreaux West\"],\n ['M4W', 'Downtown Toronto', 'Rosedale'],\n ['M5W', 'Downtown Toronto', 'Stn A PO Boxes'],\n ['M8W', 'Etobicoke', 'Alderwood, Long Branch'],\n ['M9W', 'Etobicoke', 'Northwest, West Humber - Clairville'],\n ['M1X', 'Scarborough', 'Upper Rouge'],\n ['M4X', 'Downtown Toronto', 'St. James Town, Cabbagetown'],\n ['M5X', 'Downtown Toronto', 'First Canadian Place, Underground city'],\n ['M8X', 'Etobicoke', 'The Kingsway, Montgomery Road, Old Mill North'],\n ['M4Y', 'Downtown Toronto', 'Church and Wellesley'],\n ['M7Y',\n  'East Toronto',\n  'Business reply mail Processing Centre, South Central Letter Processing Plant Toronto'],\n ['M8Y',\n  'Etobicoke',\n  \"Old Mill South, King's Mill Park, Sunnylea, Humber Bay, Mimico NE, The Queensway East, Royal York South East, Kingsway Park South East\"],\n ['M8Z',\n  'Etobicoke',\n  'Mimico NW, The Queensway West, South of Bloor, Kingsway Park South West, Royal York South West']]"
                    },
                    "metadata": {}
                }
            ]
        },
        {
            "metadata": {},
            "cell_type": "code",
            "source": "cols = ['PostalCode', 'Borough', 'Neighborhood']\ndf = pd.DataFrame(lst, columns=cols)\nprint(df.shape)",
            "execution_count": 5,
            "outputs": [
                {
                    "output_type": "stream",
                    "text": "(103, 3)\n",
                    "name": "stdout"
                }
            ]
        },
        {
            "metadata": {},
            "cell_type": "code",
            "source": "df[df.duplicated(['PostalCode'], keep=False)]",
            "execution_count": 6,
            "outputs": [
                {
                    "output_type": "execute_result",
                    "execution_count": 6,
                    "data": {
                        "text/plain": "Empty DataFrame\nColumns: [PostalCode, Borough, Neighborhood]\nIndex: []",
                        "text/html": "<div>\n<style scoped>\n    .dataframe tbody tr th:only-of-type {\n        vertical-align: middle;\n    }\n\n    .dataframe tbody tr th {\n        vertical-align: top;\n    }\n\n    .dataframe thead th {\n        text-align: right;\n    }\n</style>\n<table border=\"1\" class=\"dataframe\">\n  <thead>\n    <tr style=\"text-align: right;\">\n      <th></th>\n      <th>PostalCode</th>\n      <th>Borough</th>\n      <th>Neighborhood</th>\n    </tr>\n  </thead>\n  <tbody>\n  </tbody>\n</table>\n</div>"
                    },
                    "metadata": {}
                }
            ]
        },
        {
            "metadata": {},
            "cell_type": "code",
            "source": "df.shape",
            "execution_count": 7,
            "outputs": [
                {
                    "output_type": "execute_result",
                    "execution_count": 7,
                    "data": {
                        "text/plain": "(103, 3)"
                    },
                    "metadata": {}
                }
            ]
        },
        {
            "metadata": {},
            "cell_type": "code",
            "source": "df.head()",
            "execution_count": 8,
            "outputs": [
                {
                    "output_type": "execute_result",
                    "execution_count": 8,
                    "data": {
                        "text/plain": "  PostalCode           Borough                                 Neighborhood\n0        M3A        North York                                    Parkwoods\n1        M4A        North York                             Victoria Village\n2        M5A  Downtown Toronto                    Regent Park, Harbourfront\n3        M6A        North York             Lawrence Manor, Lawrence Heights\n4        M7A  Downtown Toronto  Queen's Park, Ontario Provincial Government",
                        "text/html": "<div>\n<style scoped>\n    .dataframe tbody tr th:only-of-type {\n        vertical-align: middle;\n    }\n\n    .dataframe tbody tr th {\n        vertical-align: top;\n    }\n\n    .dataframe thead th {\n        text-align: right;\n    }\n</style>\n<table border=\"1\" class=\"dataframe\">\n  <thead>\n    <tr style=\"text-align: right;\">\n      <th></th>\n      <th>PostalCode</th>\n      <th>Borough</th>\n      <th>Neighborhood</th>\n    </tr>\n  </thead>\n  <tbody>\n    <tr>\n      <th>0</th>\n      <td>M3A</td>\n      <td>North York</td>\n      <td>Parkwoods</td>\n    </tr>\n    <tr>\n      <th>1</th>\n      <td>M4A</td>\n      <td>North York</td>\n      <td>Victoria Village</td>\n    </tr>\n    <tr>\n      <th>2</th>\n      <td>M5A</td>\n      <td>Downtown Toronto</td>\n      <td>Regent Park, Harbourfront</td>\n    </tr>\n    <tr>\n      <th>3</th>\n      <td>M6A</td>\n      <td>North York</td>\n      <td>Lawrence Manor, Lawrence Heights</td>\n    </tr>\n    <tr>\n      <th>4</th>\n      <td>M7A</td>\n      <td>Downtown Toronto</td>\n      <td>Queen's Park, Ontario Provincial Government</td>\n    </tr>\n  </tbody>\n</table>\n</div>"
                    },
                    "metadata": {}
                }
            ]
        },
        {
            "metadata": {},
            "cell_type": "code",
            "source": "df = df.groupby('PostalCode').agg(\n    {\n        'Borough':'first', \n        'Neighborhood': ', '.join,}\n    ).reset_index()",
            "execution_count": 9,
            "outputs": []
        },
        {
            "metadata": {},
            "cell_type": "code",
            "source": "df.head()",
            "execution_count": 10,
            "outputs": [
                {
                    "output_type": "execute_result",
                    "execution_count": 10,
                    "data": {
                        "text/plain": "  PostalCode      Borough                            Neighborhood\n0        M1B  Scarborough                          Malvern, Rouge\n1        M1C  Scarborough  Rouge Hill, Port Union, Highland Creek\n2        M1E  Scarborough       Guildwood, Morningside, West Hill\n3        M1G  Scarborough                                  Woburn\n4        M1H  Scarborough                               Cedarbrae",
                        "text/html": "<div>\n<style scoped>\n    .dataframe tbody tr th:only-of-type {\n        vertical-align: middle;\n    }\n\n    .dataframe tbody tr th {\n        vertical-align: top;\n    }\n\n    .dataframe thead th {\n        text-align: right;\n    }\n</style>\n<table border=\"1\" class=\"dataframe\">\n  <thead>\n    <tr style=\"text-align: right;\">\n      <th></th>\n      <th>PostalCode</th>\n      <th>Borough</th>\n      <th>Neighborhood</th>\n    </tr>\n  </thead>\n  <tbody>\n    <tr>\n      <th>0</th>\n      <td>M1B</td>\n      <td>Scarborough</td>\n      <td>Malvern, Rouge</td>\n    </tr>\n    <tr>\n      <th>1</th>\n      <td>M1C</td>\n      <td>Scarborough</td>\n      <td>Rouge Hill, Port Union, Highland Creek</td>\n    </tr>\n    <tr>\n      <th>2</th>\n      <td>M1E</td>\n      <td>Scarborough</td>\n      <td>Guildwood, Morningside, West Hill</td>\n    </tr>\n    <tr>\n      <th>3</th>\n      <td>M1G</td>\n      <td>Scarborough</td>\n      <td>Woburn</td>\n    </tr>\n    <tr>\n      <th>4</th>\n      <td>M1H</td>\n      <td>Scarborough</td>\n      <td>Cedarbrae</td>\n    </tr>\n  </tbody>\n</table>\n</div>"
                    },
                    "metadata": {}
                }
            ]
        },
        {
            "metadata": {},
            "cell_type": "code",
            "source": "df.loc[df['PostalCode'] == 'M5A']",
            "execution_count": 11,
            "outputs": [
                {
                    "output_type": "execute_result",
                    "execution_count": 11,
                    "data": {
                        "text/plain": "   PostalCode           Borough               Neighborhood\n53        M5A  Downtown Toronto  Regent Park, Harbourfront",
                        "text/html": "<div>\n<style scoped>\n    .dataframe tbody tr th:only-of-type {\n        vertical-align: middle;\n    }\n\n    .dataframe tbody tr th {\n        vertical-align: top;\n    }\n\n    .dataframe thead th {\n        text-align: right;\n    }\n</style>\n<table border=\"1\" class=\"dataframe\">\n  <thead>\n    <tr style=\"text-align: right;\">\n      <th></th>\n      <th>PostalCode</th>\n      <th>Borough</th>\n      <th>Neighborhood</th>\n    </tr>\n  </thead>\n  <tbody>\n    <tr>\n      <th>53</th>\n      <td>M5A</td>\n      <td>Downtown Toronto</td>\n      <td>Regent Park, Harbourfront</td>\n    </tr>\n  </tbody>\n</table>\n</div>"
                    },
                    "metadata": {}
                }
            ]
        },
        {
            "metadata": {},
            "cell_type": "code",
            "source": "dfgeo = pd.read_csv(\"Geospatial_Coordinates.csv\")\ndfgeo.rename(columns={'Postal Code': 'PostalCode'}, inplace=True)",
            "execution_count": 12,
            "outputs": [
                {
                    "output_type": "error",
                    "ename": "FileNotFoundError",
                    "evalue": "[Errno 2] File Geospatial_Coordinates.csv does not exist: 'Geospatial_Coordinates.csv'",
                    "traceback": [
                        "\u001b[0;31m---------------------------------------------------------------------------\u001b[0m",
                        "\u001b[0;31mFileNotFoundError\u001b[0m                         Traceback (most recent call last)",
                        "\u001b[0;32m<ipython-input-12-e986bdb5fe30>\u001b[0m in \u001b[0;36m<module>\u001b[0;34m\u001b[0m\n\u001b[0;32m----> 1\u001b[0;31m \u001b[0mdfgeo\u001b[0m \u001b[0;34m=\u001b[0m \u001b[0mpd\u001b[0m\u001b[0;34m.\u001b[0m\u001b[0mread_csv\u001b[0m\u001b[0;34m(\u001b[0m\u001b[0;34m\"Geospatial_Coordinates.csv\"\u001b[0m\u001b[0;34m)\u001b[0m\u001b[0;34m\u001b[0m\u001b[0;34m\u001b[0m\u001b[0m\n\u001b[0m\u001b[1;32m      2\u001b[0m \u001b[0mdfgeo\u001b[0m\u001b[0;34m.\u001b[0m\u001b[0mrename\u001b[0m\u001b[0;34m(\u001b[0m\u001b[0mcolumns\u001b[0m\u001b[0;34m=\u001b[0m\u001b[0;34m{\u001b[0m\u001b[0;34m'Postal Code'\u001b[0m\u001b[0;34m:\u001b[0m \u001b[0;34m'PostalCode'\u001b[0m\u001b[0;34m}\u001b[0m\u001b[0;34m,\u001b[0m \u001b[0minplace\u001b[0m\u001b[0;34m=\u001b[0m\u001b[0;32mTrue\u001b[0m\u001b[0;34m)\u001b[0m\u001b[0;34m\u001b[0m\u001b[0;34m\u001b[0m\u001b[0m\n",
                        "\u001b[0;32m/opt/conda/envs/Python-3.7-main/lib/python3.7/site-packages/pandas/io/parsers.py\u001b[0m in \u001b[0;36mparser_f\u001b[0;34m(filepath_or_buffer, sep, delimiter, header, names, index_col, usecols, squeeze, prefix, mangle_dupe_cols, dtype, engine, converters, true_values, false_values, skipinitialspace, skiprows, skipfooter, nrows, na_values, keep_default_na, na_filter, verbose, skip_blank_lines, parse_dates, infer_datetime_format, keep_date_col, date_parser, dayfirst, cache_dates, iterator, chunksize, compression, thousands, decimal, lineterminator, quotechar, quoting, doublequote, escapechar, comment, encoding, dialect, error_bad_lines, warn_bad_lines, delim_whitespace, low_memory, memory_map, float_precision)\u001b[0m\n\u001b[1;32m    674\u001b[0m         )\n\u001b[1;32m    675\u001b[0m \u001b[0;34m\u001b[0m\u001b[0m\n\u001b[0;32m--> 676\u001b[0;31m         \u001b[0;32mreturn\u001b[0m \u001b[0m_read\u001b[0m\u001b[0;34m(\u001b[0m\u001b[0mfilepath_or_buffer\u001b[0m\u001b[0;34m,\u001b[0m \u001b[0mkwds\u001b[0m\u001b[0;34m)\u001b[0m\u001b[0;34m\u001b[0m\u001b[0;34m\u001b[0m\u001b[0m\n\u001b[0m\u001b[1;32m    677\u001b[0m \u001b[0;34m\u001b[0m\u001b[0m\n\u001b[1;32m    678\u001b[0m     \u001b[0mparser_f\u001b[0m\u001b[0;34m.\u001b[0m\u001b[0m__name__\u001b[0m \u001b[0;34m=\u001b[0m \u001b[0mname\u001b[0m\u001b[0;34m\u001b[0m\u001b[0;34m\u001b[0m\u001b[0m\n",
                        "\u001b[0;32m/opt/conda/envs/Python-3.7-main/lib/python3.7/site-packages/pandas/io/parsers.py\u001b[0m in \u001b[0;36m_read\u001b[0;34m(filepath_or_buffer, kwds)\u001b[0m\n\u001b[1;32m    446\u001b[0m \u001b[0;34m\u001b[0m\u001b[0m\n\u001b[1;32m    447\u001b[0m     \u001b[0;31m# Create the parser.\u001b[0m\u001b[0;34m\u001b[0m\u001b[0;34m\u001b[0m\u001b[0;34m\u001b[0m\u001b[0m\n\u001b[0;32m--> 448\u001b[0;31m     \u001b[0mparser\u001b[0m \u001b[0;34m=\u001b[0m \u001b[0mTextFileReader\u001b[0m\u001b[0;34m(\u001b[0m\u001b[0mfp_or_buf\u001b[0m\u001b[0;34m,\u001b[0m \u001b[0;34m**\u001b[0m\u001b[0mkwds\u001b[0m\u001b[0;34m)\u001b[0m\u001b[0;34m\u001b[0m\u001b[0;34m\u001b[0m\u001b[0m\n\u001b[0m\u001b[1;32m    449\u001b[0m \u001b[0;34m\u001b[0m\u001b[0m\n\u001b[1;32m    450\u001b[0m     \u001b[0;32mif\u001b[0m \u001b[0mchunksize\u001b[0m \u001b[0;32mor\u001b[0m \u001b[0miterator\u001b[0m\u001b[0;34m:\u001b[0m\u001b[0;34m\u001b[0m\u001b[0;34m\u001b[0m\u001b[0m\n",
                        "\u001b[0;32m/opt/conda/envs/Python-3.7-main/lib/python3.7/site-packages/pandas/io/parsers.py\u001b[0m in \u001b[0;36m__init__\u001b[0;34m(self, f, engine, **kwds)\u001b[0m\n\u001b[1;32m    878\u001b[0m             \u001b[0mself\u001b[0m\u001b[0;34m.\u001b[0m\u001b[0moptions\u001b[0m\u001b[0;34m[\u001b[0m\u001b[0;34m\"has_index_names\"\u001b[0m\u001b[0;34m]\u001b[0m \u001b[0;34m=\u001b[0m \u001b[0mkwds\u001b[0m\u001b[0;34m[\u001b[0m\u001b[0;34m\"has_index_names\"\u001b[0m\u001b[0;34m]\u001b[0m\u001b[0;34m\u001b[0m\u001b[0;34m\u001b[0m\u001b[0m\n\u001b[1;32m    879\u001b[0m \u001b[0;34m\u001b[0m\u001b[0m\n\u001b[0;32m--> 880\u001b[0;31m         \u001b[0mself\u001b[0m\u001b[0;34m.\u001b[0m\u001b[0m_make_engine\u001b[0m\u001b[0;34m(\u001b[0m\u001b[0mself\u001b[0m\u001b[0;34m.\u001b[0m\u001b[0mengine\u001b[0m\u001b[0;34m)\u001b[0m\u001b[0;34m\u001b[0m\u001b[0;34m\u001b[0m\u001b[0m\n\u001b[0m\u001b[1;32m    881\u001b[0m \u001b[0;34m\u001b[0m\u001b[0m\n\u001b[1;32m    882\u001b[0m     \u001b[0;32mdef\u001b[0m \u001b[0mclose\u001b[0m\u001b[0;34m(\u001b[0m\u001b[0mself\u001b[0m\u001b[0;34m)\u001b[0m\u001b[0;34m:\u001b[0m\u001b[0;34m\u001b[0m\u001b[0;34m\u001b[0m\u001b[0m\n",
                        "\u001b[0;32m/opt/conda/envs/Python-3.7-main/lib/python3.7/site-packages/pandas/io/parsers.py\u001b[0m in \u001b[0;36m_make_engine\u001b[0;34m(self, engine)\u001b[0m\n\u001b[1;32m   1112\u001b[0m     \u001b[0;32mdef\u001b[0m \u001b[0m_make_engine\u001b[0m\u001b[0;34m(\u001b[0m\u001b[0mself\u001b[0m\u001b[0;34m,\u001b[0m \u001b[0mengine\u001b[0m\u001b[0;34m=\u001b[0m\u001b[0;34m\"c\"\u001b[0m\u001b[0;34m)\u001b[0m\u001b[0;34m:\u001b[0m\u001b[0;34m\u001b[0m\u001b[0;34m\u001b[0m\u001b[0m\n\u001b[1;32m   1113\u001b[0m         \u001b[0;32mif\u001b[0m \u001b[0mengine\u001b[0m \u001b[0;34m==\u001b[0m \u001b[0;34m\"c\"\u001b[0m\u001b[0;34m:\u001b[0m\u001b[0;34m\u001b[0m\u001b[0;34m\u001b[0m\u001b[0m\n\u001b[0;32m-> 1114\u001b[0;31m             \u001b[0mself\u001b[0m\u001b[0;34m.\u001b[0m\u001b[0m_engine\u001b[0m \u001b[0;34m=\u001b[0m \u001b[0mCParserWrapper\u001b[0m\u001b[0;34m(\u001b[0m\u001b[0mself\u001b[0m\u001b[0;34m.\u001b[0m\u001b[0mf\u001b[0m\u001b[0;34m,\u001b[0m \u001b[0;34m**\u001b[0m\u001b[0mself\u001b[0m\u001b[0;34m.\u001b[0m\u001b[0moptions\u001b[0m\u001b[0;34m)\u001b[0m\u001b[0;34m\u001b[0m\u001b[0;34m\u001b[0m\u001b[0m\n\u001b[0m\u001b[1;32m   1115\u001b[0m         \u001b[0;32melse\u001b[0m\u001b[0;34m:\u001b[0m\u001b[0;34m\u001b[0m\u001b[0;34m\u001b[0m\u001b[0m\n\u001b[1;32m   1116\u001b[0m             \u001b[0;32mif\u001b[0m \u001b[0mengine\u001b[0m \u001b[0;34m==\u001b[0m \u001b[0;34m\"python\"\u001b[0m\u001b[0;34m:\u001b[0m\u001b[0;34m\u001b[0m\u001b[0;34m\u001b[0m\u001b[0m\n",
                        "\u001b[0;32m/opt/conda/envs/Python-3.7-main/lib/python3.7/site-packages/pandas/io/parsers.py\u001b[0m in \u001b[0;36m__init__\u001b[0;34m(self, src, **kwds)\u001b[0m\n\u001b[1;32m   1889\u001b[0m         \u001b[0mkwds\u001b[0m\u001b[0;34m[\u001b[0m\u001b[0;34m\"usecols\"\u001b[0m\u001b[0;34m]\u001b[0m \u001b[0;34m=\u001b[0m \u001b[0mself\u001b[0m\u001b[0;34m.\u001b[0m\u001b[0musecols\u001b[0m\u001b[0;34m\u001b[0m\u001b[0;34m\u001b[0m\u001b[0m\n\u001b[1;32m   1890\u001b[0m \u001b[0;34m\u001b[0m\u001b[0m\n\u001b[0;32m-> 1891\u001b[0;31m         \u001b[0mself\u001b[0m\u001b[0;34m.\u001b[0m\u001b[0m_reader\u001b[0m \u001b[0;34m=\u001b[0m \u001b[0mparsers\u001b[0m\u001b[0;34m.\u001b[0m\u001b[0mTextReader\u001b[0m\u001b[0;34m(\u001b[0m\u001b[0msrc\u001b[0m\u001b[0;34m,\u001b[0m \u001b[0;34m**\u001b[0m\u001b[0mkwds\u001b[0m\u001b[0;34m)\u001b[0m\u001b[0;34m\u001b[0m\u001b[0;34m\u001b[0m\u001b[0m\n\u001b[0m\u001b[1;32m   1892\u001b[0m         \u001b[0mself\u001b[0m\u001b[0;34m.\u001b[0m\u001b[0munnamed_cols\u001b[0m \u001b[0;34m=\u001b[0m \u001b[0mself\u001b[0m\u001b[0;34m.\u001b[0m\u001b[0m_reader\u001b[0m\u001b[0;34m.\u001b[0m\u001b[0munnamed_cols\u001b[0m\u001b[0;34m\u001b[0m\u001b[0;34m\u001b[0m\u001b[0m\n\u001b[1;32m   1893\u001b[0m \u001b[0;34m\u001b[0m\u001b[0m\n",
                        "\u001b[0;32mpandas/_libs/parsers.pyx\u001b[0m in \u001b[0;36mpandas._libs.parsers.TextReader.__cinit__\u001b[0;34m()\u001b[0m\n",
                        "\u001b[0;32mpandas/_libs/parsers.pyx\u001b[0m in \u001b[0;36mpandas._libs.parsers.TextReader._setup_parser_source\u001b[0;34m()\u001b[0m\n",
                        "\u001b[0;31mFileNotFoundError\u001b[0m: [Errno 2] File Geospatial_Coordinates.csv does not exist: 'Geospatial_Coordinates.csv'"
                    ]
                }
            ]
        },
        {
            "metadata": {},
            "cell_type": "code",
            "source": "",
            "execution_count": null,
            "outputs": []
        }
    ],
    "metadata": {
        "kernelspec": {
            "name": "python3",
            "display_name": "Python 3.7",
            "language": "python"
        },
        "language_info": {
            "name": "python",
            "version": "3.7.9",
            "mimetype": "text/x-python",
            "codemirror_mode": {
                "name": "ipython",
                "version": 3
            },
            "pygments_lexer": "ipython3",
            "nbconvert_exporter": "python",
            "file_extension": ".py"
        }
    },
    "nbformat": 4,
    "nbformat_minor": 1
}